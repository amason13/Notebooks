{
 "cells": [
  {
   "cell_type": "markdown",
   "metadata": {},
   "source": [
    "# Welcome to the PyTorch Sentiment Analysis Exercise\n",
    "\n",
    "This exercise will cover some key concepts in natural language machine learning, including:\n",
    "\n",
    "* The preparation of text corpora\n",
    "* The construction of neural net models for natural language tasks\n",
    "* The use of various kinds of *recurrent neural network layers,* which are commonly used in problems involving sequences, including natural language tasks.\n",
    "\n",
    "## Notes on Using This Notebook\n",
    "\n",
    "* Code will be provided for boilerplate tasks; in other places, you will need to fill in code to complete the exercise. Cells you need to fill in will be flagged with the **Exercise** heading.\n",
    "* The code cells are, in general, meant to be run in order. If you think a code cell should be working, but it isn't, verify that all previous cells were run - the cell you're having trouble with may depend on a variable or file that is created in a previous cell.\n",
    "* Class names and other text normally meant for consumption by a computer will be rendered in a `monospace font`. This will hopefully reduce confusion between, e.g., the word \"dataset\" referring to the concept of a cohesive body of data, and the class name `Dataset` referring to the related PyTorch class.\n",
    "\n",
    "### Do This Now:\n",
    "\n",
    "The cell below downloads and unzips the dataset we'll be using for this exercise. The dataset isn't huge, but it may take a minute to download, so **please uncomment and execute the following code cell now** to get the process started. (The commented lines are there to prevent the download triggering accidentally, so you may wish to replace them afterward.)"
   ]
  },
  {
   "cell_type": "code",
   "execution_count": 1,
   "metadata": {},
   "outputs": [
    {
     "name": "stdout",
     "output_type": "stream",
     "text": [
      "  % Total    % Received % Xferd  Average Speed   Time    Time     Time  Current\n",
      "                                 Dload  Upload   Total   Spent    Left  Speed\n",
      "100 1943k  100 1943k    0     0   556k      0  0:00:03  0:00:03 --:--:--  556k 0      0      0 --:--:--  0:00:02 --:--:--     0\n",
      "Archive:  reviews.zip\n",
      "  inflating: sampleSubmission.csv    \n",
      "  inflating: train.tsv               \n",
      "  inflating: test.tsv                \n"
     ]
    }
   ],
   "source": [
    "# !curl -0 https://s3-us-west-1.amazonaws.com/pytorch-course-datasets/sentiment-analysis-on-movie-reviews.zip > reviews.zip\n",
    "# !unzip reviews.zip"
   ]
  },
  {
   "cell_type": "code",
   "execution_count": 2,
   "metadata": {},
   "outputs": [
    {
     "name": "stdout",
     "output_type": "stream",
     "text": [
      "PhraseId\tSentenceId\tPhrase\tSentiment\n",
      "1\t1\tA series of escapades demonstrating the adage that what is good for the goose is also good for the gander , some of which occasionally amuses but none of which amounts to much of a story .\t1\n",
      "2\t1\tA series of escapades demonstrating the adage that what is good for the goose\t2\n",
      "3\t1\tA series\t2\n",
      "4\t1\tA\t2\n",
      "5\t1\tseries\t2\n",
      "6\t1\tof escapades demonstrating the adage that what is good for the goose\t2\n",
      "7\t1\tof\t2\n",
      "8\t1\tescapades demonstrating the adage that what is good for the goose\t2\n",
      "9\t1\tescapades\t2\n",
      "PhraseId\tSentenceId\tPhrase\n",
      "156061\t8545\tAn intermittently pleasing but mostly routine effort .\n",
      "156062\t8545\tAn intermittently pleasing but mostly routine effort\n",
      "156063\t8545\tAn\n",
      "156064\t8545\tintermittently pleasing but mostly routine effort\n",
      "156065\t8545\tintermittently pleasing but mostly routine\n",
      "156066\t8545\tintermittently pleasing but\n",
      "156067\t8545\tintermittently pleasing\n",
      "156068\t8545\tintermittently\n",
      "156069\t8545\tpleasing\n"
     ]
    }
   ],
   "source": [
    "!head -n 10 train.tsv\n",
    "!head -n 10 test.tsv"
   ]
  },
  {
   "cell_type": "markdown",
   "metadata": {},
   "source": [
    "## Introduction\n",
    "\n",
    "This exercise is based on the Kaggle competition, [Sentiment Analysis on Movie Reviews](https://www.kaggle.com/c/sentiment-analysis-on-movie-reviews/overview). The goal is to create a neural net that can accurately classify the sentiment of movie reviews on a five-point scale from 0 to 4, with 4 being most positive."
   ]
  }
 ],
 "metadata": {
  "kernelspec": {
   "display_name": "Python 3",
   "language": "python",
   "name": "python3"
  },
  "language_info": {
   "codemirror_mode": {
    "name": "ipython",
    "version": 3
   },
   "file_extension": ".py",
   "mimetype": "text/x-python",
   "name": "python",
   "nbconvert_exporter": "python",
   "pygments_lexer": "ipython3",
   "version": "3.7.2"
  }
 },
 "nbformat": 4,
 "nbformat_minor": 2
}
