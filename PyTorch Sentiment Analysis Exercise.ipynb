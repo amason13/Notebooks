{
  "nbformat": 4,
  "nbformat_minor": 0,
  "metadata": {
    "colab": {
      "name": "PyTorch Sentiment Analysis Exercise.ipynb",
      "version": "0.3.2",
      "provenance": [],
      "toc_visible": true
    },
    "language_info": {
      "codemirror_mode": {
        "name": "ipython",
        "version": 3
      },
      "file_extension": ".py",
      "mimetype": "text/x-python",
      "name": "python",
      "nbconvert_exporter": "python",
      "pygments_lexer": "ipython3",
      "version": "3.7.2"
    },
    "kernelspec": {
      "name": "python3",
      "display_name": "Python 3"
    },
    "accelerator": "GPU"
  },
  "cells": [
    {
      "cell_type": "code",
      "metadata": {
        "id": "6p2iEyrC34qE",
        "colab_type": "code",
        "colab": {}
      },
      "source": [
        "# !curl -0 https://s3-us-west-1.amazonaws.com/pytorch-course-datasets/sentiment-analysis-on-movie-reviews.zip > reviews.zip\n",
        "# !unzip reviews.zip\n",
        "# !mkdir models"
      ],
      "execution_count": 0,
      "outputs": []
    },
    {
      "cell_type": "code",
      "metadata": {
        "id": "qenT9rGd3_Tl",
        "colab_type": "code",
        "colab": {}
      },
      "source": [
        "import torch\n",
        "import torch.nn as nn\n",
        "import torch.nn.functional as F\n",
        "\n",
        "from torchtext import data\n",
        "\n",
        "import random\n",
        "import time\n",
        "import os"
      ],
      "execution_count": 0,
      "outputs": []
    },
    {
      "cell_type": "code",
      "metadata": {
        "id": "w7zmDkFp4O5W",
        "colab_type": "code",
        "colab": {}
      },
      "source": [
        "def tlog(msg):\n",
        "    print('{}   {}'.format(time.asctime(), msg))\n",
        "\n",
        "def count_model_params(model):\n",
        "    return sum(p.numel() for p in model.parameters() if p.requires_grad)\n",
        "\n",
        "def count_correct(guesses, labels):\n",
        "    return (guesses == labels).float().sum()\n",
        "\n",
        "def save_model(model, epoch):\n",
        "    savefile = \"{}-e{}-{}.pt\".format('pytorch-sentiment', epoch, int(time.time()))\n",
        "    tlog('Saving model {}'.format(savefile))\n",
        "    path = os.path.join('models', savefile)\n",
        "    # recommended way from https://pytorch.org/docs/stable/notes/serialization.html\n",
        "    torch.save(model.state_dict(), path)\n",
        "    return savefile"
      ],
      "execution_count": 0,
      "outputs": []
    },
    {
      "cell_type": "code",
      "metadata": {
        "id": "lq5x7Ri44llU",
        "colab_type": "code",
        "colab": {}
      },
      "source": [
        "# global device handle\n",
        "if not torch.cuda.is_available():\n",
        "    device = torch.device('cpu')\n",
        "    print('*** GPU not available - running on CPU. ***')\n",
        "else:\n",
        "    device = torch.device('cuda')\n",
        "    print('GPU ready to go!')"
      ],
      "execution_count": 0,
      "outputs": []
    },
    {
      "cell_type": "code",
      "metadata": {
        "id": "mBTlMfsM4bBF",
        "colab_type": "code",
        "colab": {}
      },
      "source": [
        "# dataset constants\n",
        "VOCAB_SIZE = 15000 # max size of vocabulary\n",
        "VOCAB_VECTORS = \"glove.6B.100d\" # Stanford NLP GloVe (global vectors) for word rep\n",
        "BATCH_SIZE = 64\n",
        "\n",
        "\n",
        "\n",
        "def get_data():\n",
        "    tlog('Preparing data...')\n",
        "    phrases_fieldspec = data.Field(include_lengths=True, tokenize='spacy')\n",
        "    labels_fieldspec = data.LabelField(dtype=torch.int64, sequential=False)\n",
        "\n",
        "    fields = [\n",
        "        ('SKIP_phrase_id', None),\n",
        "        ('SKIP_sentence_id', None),\n",
        "        ('phrases', phrases_fieldspec),\n",
        "        ('labels', labels_fieldspec)\n",
        "    ]\n",
        "\n",
        "\n",
        "    train_data = data.TabularDataset(\n",
        "        'train.tsv', # path to file\n",
        "        'TSV', # file format\n",
        "        fields,\n",
        "        skip_header = True # we have a header row\n",
        "    )\n",
        "    \n",
        "    train_data, eval_data = train_data.split()\n",
        "    phrases_fieldspec.build_vocab(train_data, max_size=VOCAB_SIZE, vectors=VOCAB_VECTORS)\n",
        "    labels_fieldspec.build_vocab(train_data)\n",
        "    vocab_size = len(phrases_fieldspec.vocab)\n",
        "    output_size = len(labels_fieldspec.vocab)\n",
        "    \n",
        "    train_iter, eval_iter = data.BucketIterator.splits(\n",
        "        (train_data, eval_data), \n",
        "        batch_size=BATCH_SIZE,\n",
        "        device=device, sort=False, shuffle=True)\n",
        "    \n",
        "    tlog('Data prepared')\n",
        "    return train_iter, eval_iter, vocab_size, output_size"
      ],
      "execution_count": 0,
      "outputs": []
    },
    {
      "cell_type": "code",
      "metadata": {
        "id": "GFJ3dT4g40-7",
        "colab_type": "code",
        "colab": {}
      },
      "source": [
        "# model constants\n",
        "EMBEDDING_SIZE = 100 # must match dimensions in vocab vectors above\n",
        "HIDDEN_SIZE = 100\n",
        "OUTPUT_SIZE = 5 # 0 to 4\n",
        "NUM_LAYERS = 2\n",
        "\n",
        "\n",
        "\n",
        "class SentimentAnalyzer(nn.Module):\n",
        "    \n",
        "    def __init__(self, vocab_size, embedding_size, pretrained_embedding, hidden_size, output_size):\n",
        "        super(SentimentAnalyzer, self).__init__()\n",
        "        self.hidden_size = hidden_size\n",
        "        \n",
        "        self.embedding = nn.Embedding(vocab_size, embedding_size)\n",
        "        self.embedding.weight.data.copy_(pretrained_embedding)\n",
        "        self.embedding.weight.requires_grad = False\n",
        "        \n",
        "        self.rnn = nn.LSTM(\n",
        "            input_size=embedding_size,\n",
        "            num_layers=NUM_LAYERS,\n",
        "            hidden_size=hidden_size,\n",
        "            dropout=0.5\n",
        "        )\n",
        "        \n",
        "        self.fc = nn.Linear(hidden_size, output_size)\n",
        "        \n",
        "    def forward(self, phrases, hidden):\n",
        "        if hidden is None: # tuple w/ 2 for LSTM, make one for RNN or GRU\n",
        "            hidden = (torch.zeros(NUM_LAYERS, BATCH_SIZE, self.hidden_size, dtype=torch.float).to(device),\n",
        "                      torch.zeros(NUM_LAYERS, BATCH_SIZE, self.hidden_size, dtype=torch.float).to(device))\n",
        "        # print(hidden[0].shape)\n",
        "        x = self.embedding(phrases)\n",
        "        x, hidden = self.rnn(x, hidden)\n",
        "        # print(hidden[0].shape)\n",
        "        x = self.fc(hidden[0][-1]) # remove [0] for RNN or GRU, [-1] is for layers\n",
        "        return x.squeeze(0), hidden"
      ],
      "execution_count": 0,
      "outputs": []
    },
    {
      "cell_type": "code",
      "metadata": {
        "id": "PiUg5J_Q6m1w",
        "colab_type": "code",
        "colab": {}
      },
      "source": [
        "def get_model(vocab_size, output_size, vectors):\n",
        "    tlog('Creating model...')\n",
        "    sa = SentimentAnalyzer(vocab_size, EMBEDDING_SIZE, vectors, HIDDEN_SIZE, output_size)\n",
        "    tlog('The model has {} trainable parameters'.format(count_model_params(sa)))\n",
        "    tlog(sa)\n",
        "    return sa"
      ],
      "execution_count": 0,
      "outputs": []
    },
    {
      "cell_type": "code",
      "metadata": {
        "id": "SaIJfIbk65HC",
        "colab_type": "code",
        "colab": {}
      },
      "source": [
        "def train(model, iterator, loss_fn, optimizer): # one epoch\n",
        "    curr_loss = 0.\n",
        "    curr_correct = 0.\n",
        "    hidden = None\n",
        "    model.train() # makes sure that training-only fns, like dropout, are active\n",
        "    \n",
        "    for batch in iterator:\n",
        "        # get the data\n",
        "        phrases, lengths = batch.phrases\n",
        "        \n",
        "        if phrases.shape[1] == BATCH_SIZE:        \n",
        "            # predict and learn\n",
        "            optimizer.zero_grad()\n",
        "            guesses, hidden = model(phrases, hidden)\n",
        "            loss = loss_fn(guesses, batch.labels)\n",
        "            loss.backward()\n",
        "            optimizer.step()\n",
        "            \n",
        "            hidden[0].detach_() # or we get double-backward errors\n",
        "            hidden[1].detach_() # or we get double-backward errors\n",
        "\n",
        "            # measure\n",
        "            curr_loss += loss.item()\n",
        "            curr_correct += count_correct(torch.argmax(guesses, 1), batch.labels)\n",
        "        \n",
        "    return curr_loss / len(iterator), curr_correct / (len(iterator) * BATCH_SIZE)"
      ],
      "execution_count": 0,
      "outputs": []
    },
    {
      "cell_type": "code",
      "metadata": {
        "id": "8wU0mXmR7CL1",
        "colab_type": "code",
        "colab": {}
      },
      "source": [
        "def evaluate(model, iterator, loss_fn):\n",
        "    curr_loss = 0.\n",
        "    curr_correct = 0.\n",
        "    hidden = None\n",
        "    model.eval() # makes sure that training-only fns, like dropout, are inactive\n",
        "    \n",
        "    with torch.no_grad(): # not training\n",
        "        for batch in iterator:\n",
        "            # get the data\n",
        "            phrases, lengths = batch.phrases\n",
        "            \n",
        "            if phrases.shape[1] == BATCH_SIZE:        \n",
        "                # predict\n",
        "                guesses, hidden = model(phrases, hidden) # .squeeze(1)\n",
        "                loss = loss_fn(guesses, batch.labels)\n",
        "\n",
        "                # measure\n",
        "                curr_loss += loss.item()\n",
        "                curr_correct += count_correct(torch.argmax(guesses, 1), batch.labels)\n",
        "\n",
        "    \n",
        "    return curr_loss / len(iterator), curr_correct / (len(iterator) * BATCH_SIZE)        "
      ],
      "execution_count": 0,
      "outputs": []
    },
    {
      "cell_type": "code",
      "metadata": {
        "id": "vDmduE-x7Cuc",
        "colab_type": "code",
        "colab": {}
      },
      "source": [
        "# training loop constants\n",
        "EPOCHS = 50\n",
        "LR = 2e-3\n",
        "\n",
        "\n",
        "def learn(model, train_iter, eval_iter):\n",
        "    eval_losses = []\n",
        "    eval_accs = []\n",
        "    best_eval_acc = 0\n",
        "    \n",
        "    model = model.to(device)\n",
        "\n",
        "    loss_fn = torch.nn.CrossEntropyLoss()\n",
        "    # loss_fn = loss_fn.to(device)\n",
        "\n",
        "    params = filter(lambda p: p.requires_grad, model.parameters())\n",
        "    optimizer = torch.optim.Adam(params, lr=LR)\n",
        "    \n",
        "    for epoch in range(EPOCHS):\n",
        "        tlog('EPOCH {} of {}'.format(epoch + 1, EPOCHS))\n",
        "        \n",
        "        train_loss, train_acc = train(model, train_iter, loss_fn, optimizer)\n",
        "        tlog('  Training loss {}   acc {}'.format(train_loss, train_acc))\n",
        "        \n",
        "        eval_loss, eval_acc = evaluate(model, eval_iter, loss_fn)\n",
        "        tlog('  Validation loss {}   acc {}'.format(eval_loss, eval_acc))\n",
        "        eval_losses.append(eval_loss)\n",
        "        eval_accs.append(eval_acc)\n",
        "        if eval_acc > best_eval_acc:\n",
        "            tlog('  *** New accuracy peak, saving model')\n",
        "            best_eval_acc = eval_acc\n",
        "            saved_model_filename = save_model(model, epoch + 1)\n",
        "    \n",
        "    tlog('DONE')\n",
        "    return eval_losses, eval_accs"
      ],
      "execution_count": 0,
      "outputs": []
    },
    {
      "cell_type": "code",
      "metadata": {
        "id": "nql6BMtcWQIm",
        "colab_type": "code",
        "colab": {}
      },
      "source": [
        "t_iter, e_iter, vocab_size, output_size = get_data()\n",
        "embedding_vectors = t_iter.dataset.fields['phrases'].vocab.vectors"
      ],
      "execution_count": 0,
      "outputs": []
    },
    {
      "cell_type": "code",
      "metadata": {
        "id": "FZLEmqGx7G_z",
        "colab_type": "code",
        "colab": {}
      },
      "source": [
        "sa = get_model(vocab_size, output_size, embedding_vectors)\n",
        "losses, accs = learn(sa, t_iter, e_iter)"
      ],
      "execution_count": 0,
      "outputs": []
    },
    {
      "cell_type": "code",
      "metadata": {
        "id": "Q9DEahUhC1hR",
        "colab_type": "code",
        "colab": {}
      },
      "source": [
        "for i in range(len(losses)):\n",
        "    print('{} {}'.format(losses[i], accs[i]))"
      ],
      "execution_count": 0,
      "outputs": []
    }
  ]
}