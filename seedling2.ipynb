{
 "cells": [
  {
   "cell_type": "code",
   "execution_count": 0,
   "metadata": {
    "colab": {},
    "colab_type": "code",
    "id": "vZWtHgQfLmPQ"
   },
   "outputs": [],
   "source": [
    "!wget http://bradheintz.com/kaggle/plant-seedlings-classification.zip\n",
    "!unzip plant-seedlings-classification.zip\n",
    "!mkdir data\n",
    "!mkdir data/train\n",
    "!mkdir data/test\n",
    "!mv train.zip data/train\n",
    "!unzip data/train/train.zip\n",
    "!mv test.zip data/test\n",
    "!unzip data/test/test.zip"
   ]
  },
  {
   "cell_type": "code",
   "execution_count": null,
   "metadata": {},
   "outputs": [],
   "source": [
    "from imageio import imread\n",
    "import numpy as np\n",
    "from PIL import Image\n",
    "from io import BytesIO\n",
    "\n",
    "\n",
    "\n",
    "class SeedlingTestDataset(torch.utils.data.Dataset):\n",
    "\n",
    "    def __init__(self, path_to_test_data='data/test', transform=None):\n",
    "        self.transform = transform\n",
    "        self.data, self.datasize = self.build_dataset_from_path(path_to_test_data)\n",
    "        self.filenames = sorted(self.data.keys())\n",
    "\n",
    "    def build_dataset_from_path(self, test_data_path):\n",
    "        data = {}\n",
    "        for item in listdir(test_data_path):\n",
    "            file_path = join(test_data_path, item)\n",
    "            if isfile(file_path) and 'png' in file_path:\n",
    "                data[item] = file_path\n",
    "        return data, len(data)\n",
    "\n",
    "    def __len__(self):\n",
    "        return self.datasize\n",
    "\n",
    "    def __getitem__(self, index):\n",
    "        key = self.filenames[index]\n",
    "        full_path = self.data[key]\n",
    "\n",
    "        f = open(full_path, 'rb')\n",
    "        img = Image.open(BytesIO(f.read()))\n",
    "        f.close()\n",
    "        if self.transform is not None:\n",
    "            img = self.transform(img)\n",
    "\n",
    "        return img, key\n",
    "\n",
    "def get_test_loader(args, kwargs):\n",
    "    incoming_transforms = transforms.Compose([\n",
    "        transforms.Resize(100),\n",
    "        transforms.RandomCrop(100),\n",
    "        transforms.RandomHorizontalFlip(),\n",
    "        transforms.ToTensor()\n",
    "        ])\n",
    "    dataset = SeedlingTestDataset(path_to_test_data='data/test', transform=incoming_transforms)\n",
    "    return torch.utils.data.DataLoader(dataset, batch_size=1, num_workers=1, shuffle=False, **kwargs)\n",
    "\n",
    "def test_model(model, device, kwargs):\n",
    "    model.eval()\n",
    "    classes = get_training_loader(args, kwargs).dataset.classes # TODO this is horrible\n",
    "    loader = get_test_loader(args, kwargs)\n",
    "    filenames = loader.dataset.filenames\n",
    "\n",
    "    outfile = open('submission.csv', 'w')\n",
    "    outfile.write('file,species\\n')\n",
    "    with torch.no_grad():\n",
    "        for batch_idx, (data, target) in enumerate(loader):\n",
    "            output = model(data)\n",
    "            score, pred = torch.max(output, 1)\n",
    "            outfile.write('{},{}\\n'.format(target[0], classes[pred.item()])) # batches of 1"
   ]
  }
 ],
 "metadata": {
  "accelerator": "GPU",
  "colab": {
   "name": "seedling.ipynb",
   "provenance": [],
   "version": "0.3.2"
  },
  "kernelspec": {
   "display_name": "Python 3",
   "language": "python",
   "name": "python3"
  },
  "language_info": {
   "codemirror_mode": {
    "name": "ipython",
    "version": 3
   },
   "file_extension": ".py",
   "mimetype": "text/x-python",
   "name": "python",
   "nbconvert_exporter": "python",
   "pygments_lexer": "ipython3",
   "version": "3.7.2"
  }
 },
 "nbformat": 4,
 "nbformat_minor": 1
}
